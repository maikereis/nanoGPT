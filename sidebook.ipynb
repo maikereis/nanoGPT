{
 "cells": [
  {
   "cell_type": "code",
   "execution_count": 82,
   "metadata": {},
   "outputs": [
    {
     "name": "stdout",
     "output_type": "stream",
     "text": [
      "The autoreload extension is already loaded. To reload it, use:\n",
      "  %reload_ext autoreload\n"
     ]
    }
   ],
   "source": [
    "%load_ext autoreload\n",
    "%autoreload 2"
   ]
  },
  {
   "cell_type": "code",
   "execution_count": 83,
   "metadata": {},
   "outputs": [],
   "source": [
    "import torch\n",
    "from torch.nn import Embedding"
   ]
  },
  {
   "cell_type": "code",
   "execution_count": 84,
   "metadata": {},
   "outputs": [],
   "source": [
    "n_embeddings, dim = 10, 4"
   ]
  },
  {
   "cell_type": "code",
   "execution_count": 85,
   "metadata": {},
   "outputs": [],
   "source": [
    "emb_1 = Embedding(n_embeddings, dim)"
   ]
  },
  {
   "cell_type": "code",
   "execution_count": 86,
   "metadata": {},
   "outputs": [
    {
     "data": {
      "text/plain": [
       "Parameter containing:\n",
       "tensor([[-0.0770,  1.3486, -0.3189, -1.1807],\n",
       "        [ 1.7422, -1.2712, -0.8330, -0.2070],\n",
       "        [-2.6928,  0.3090,  0.0377, -0.2534],\n",
       "        [-0.4828,  0.8266,  0.2567,  1.7748],\n",
       "        [-0.1075, -0.4203, -0.6300,  0.4063],\n",
       "        [-1.5217,  0.1617,  0.1653, -0.5060],\n",
       "        [-0.7145, -0.8803, -1.0185, -0.9204],\n",
       "        [-0.1019, -1.8421, -0.8073,  0.7060],\n",
       "        [-1.9837, -1.4528,  0.9617,  2.1742],\n",
       "        [-0.3916,  0.0729,  1.1836,  0.4746]], requires_grad=True)"
      ]
     },
     "execution_count": 86,
     "metadata": {},
     "output_type": "execute_result"
    }
   ],
   "source": [
    "emb_1.weight"
   ]
  },
  {
   "cell_type": "code",
   "execution_count": 96,
   "metadata": {},
   "outputs": [
    {
     "data": {
      "text/plain": [
       "tensor([[[-0.0770,  1.3486, -0.3189, -1.1807],\n",
       "         [ 1.7422, -1.2712, -0.8330, -0.2070],\n",
       "         [-2.6928,  0.3090,  0.0377, -0.2534]]], grad_fn=<EmbeddingBackward0>)"
      ]
     },
     "execution_count": 96,
     "metadata": {},
     "output_type": "execute_result"
    }
   ],
   "source": [
    "inp = torch.LongTensor([[0, 1, 2]])\n",
    "emb_1(inp)"
   ]
  },
  {
   "cell_type": "code",
   "execution_count": 88,
   "metadata": {},
   "outputs": [
    {
     "data": {
      "text/plain": [
       "tensor([[[-0.0770,  1.3486, -0.3189, -1.1807],\n",
       "         [ 1.7422, -1.2712, -0.8330, -0.2070],\n",
       "         [-2.6928,  0.3090,  0.0377, -0.2534],\n",
       "         [-0.4828,  0.8266,  0.2567,  1.7748]]], grad_fn=<EmbeddingBackward0>)"
      ]
     },
     "execution_count": 88,
     "metadata": {},
     "output_type": "execute_result"
    }
   ],
   "source": [
    "inp = torch.LongTensor([[0, 1, 2, 3]])\n",
    "emb_1(inp)"
   ]
  },
  {
   "cell_type": "code",
   "execution_count": 89,
   "metadata": {},
   "outputs": [],
   "source": [
    "emb_2 = Embedding(n_embeddings, dim, padding_idx=5)"
   ]
  },
  {
   "cell_type": "code",
   "execution_count": 90,
   "metadata": {},
   "outputs": [
    {
     "data": {
      "text/plain": [
       "Parameter containing:\n",
       "tensor([[ 0.5342,  0.8960, -1.8306,  0.4651],\n",
       "        [-0.3878,  0.7986, -2.1576,  0.5118],\n",
       "        [-1.5801,  1.8827, -0.9997, -1.2748],\n",
       "        [ 1.0436,  0.6020,  0.0472, -0.1841],\n",
       "        [-1.9764, -0.7421, -0.7065,  0.3342],\n",
       "        [ 0.0000,  0.0000,  0.0000,  0.0000],\n",
       "        [-1.0429, -1.2013, -0.7404,  1.5183],\n",
       "        [ 1.4581, -0.3934, -0.5161,  1.0336],\n",
       "        [-0.4387, -1.6046,  1.8560, -0.0855],\n",
       "        [ 0.9010, -1.4010, -0.9526,  0.1447]], requires_grad=True)"
      ]
     },
     "execution_count": 90,
     "metadata": {},
     "output_type": "execute_result"
    }
   ],
   "source": [
    "emb_2.weight"
   ]
  },
  {
   "cell_type": "code",
   "execution_count": 91,
   "metadata": {},
   "outputs": [],
   "source": [
    "emb_2(inp).mean().backward()"
   ]
  },
  {
   "cell_type": "code",
   "execution_count": 92,
   "metadata": {},
   "outputs": [
    {
     "data": {
      "text/plain": [
       "tensor([[0.0625, 0.0625, 0.0625, 0.0625],\n",
       "        [0.0625, 0.0625, 0.0625, 0.0625],\n",
       "        [0.0625, 0.0625, 0.0625, 0.0625],\n",
       "        [0.0625, 0.0625, 0.0625, 0.0625],\n",
       "        [0.0000, 0.0000, 0.0000, 0.0000],\n",
       "        [0.0000, 0.0000, 0.0000, 0.0000],\n",
       "        [0.0000, 0.0000, 0.0000, 0.0000],\n",
       "        [0.0000, 0.0000, 0.0000, 0.0000],\n",
       "        [0.0000, 0.0000, 0.0000, 0.0000],\n",
       "        [0.0000, 0.0000, 0.0000, 0.0000]])"
      ]
     },
     "execution_count": 92,
     "metadata": {},
     "output_type": "execute_result"
    }
   ],
   "source": [
    "emb_2.weight.grad"
   ]
  },
  {
   "cell_type": "code",
   "execution_count": 93,
   "metadata": {},
   "outputs": [
    {
     "data": {
      "text/plain": [
       "Parameter containing:\n",
       "tensor([[ 1.3339, -1.1989,  0.3232, -0.8893],\n",
       "        [ 1.1520,  0.1761, -0.6374, -0.8149],\n",
       "        [ 0.7424, -1.3201, -1.1141, -0.0816],\n",
       "        [-0.5057,  0.6614,  0.8398,  0.0943],\n",
       "        [ 0.9928,  1.1355,  0.2883,  1.0416],\n",
       "        [ 0.0840, -0.5667,  1.3190, -0.8033],\n",
       "        [-0.7602,  1.2354,  0.5823, -1.0017],\n",
       "        [-0.3659, -0.0274, -0.0758,  1.0487],\n",
       "        [-0.9380,  1.2051, -0.3034, -0.3585],\n",
       "        [ 0.3021,  1.1702, -0.2337, -0.9605]], requires_grad=True)"
      ]
     },
     "execution_count": 93,
     "metadata": {},
     "output_type": "execute_result"
    }
   ],
   "source": [
    "emb_3 = Embedding(n_embeddings, dim, norm_type=2, max_norm=1)\n",
    "\n",
    "emb_3.weight"
   ]
  },
  {
   "cell_type": "code",
   "execution_count": 94,
   "metadata": {},
   "outputs": [
    {
     "data": {
      "text/plain": [
       "tensor([2.0277, 1.5584, 1.8819, 1.1864, 1.8555, 1.6472, 1.8565, 1.1136, 1.5977,\n",
       "        1.5614], grad_fn=<LinalgVectorNormBackward0>)"
      ]
     },
     "execution_count": 94,
     "metadata": {},
     "output_type": "execute_result"
    }
   ],
   "source": [
    "emb_3.weight.norm(dim=1)"
   ]
  },
  {
   "cell_type": "code",
   "execution_count": 95,
   "metadata": {},
   "outputs": [
    {
     "data": {
      "text/plain": [
       "tensor([[1.1474, 1.0794, 1.0219, 0.6885]], grad_fn=<LinalgVectorNormBackward0>)"
      ]
     },
     "execution_count": 95,
     "metadata": {},
     "output_type": "execute_result"
    }
   ],
   "source": [
    "emb_3(inp).norm(dim=1)"
   ]
  }
 ],
 "metadata": {
  "kernelspec": {
   "display_name": "nanoGPT",
   "language": "python",
   "name": "python3"
  },
  "language_info": {
   "codemirror_mode": {
    "name": "ipython",
    "version": 3
   },
   "file_extension": ".py",
   "mimetype": "text/x-python",
   "name": "python",
   "nbconvert_exporter": "python",
   "pygments_lexer": "ipython3",
   "version": "3.10.12"
  }
 },
 "nbformat": 4,
 "nbformat_minor": 2
}
