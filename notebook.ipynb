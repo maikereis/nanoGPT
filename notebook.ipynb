{
 "cells": [
  {
   "cell_type": "code",
   "execution_count": 23,
   "metadata": {},
   "outputs": [
    {
     "name": "stdout",
     "output_type": "stream",
     "text": [
      "The autoreload extension is already loaded. To reload it, use:\n",
      "  %reload_ext autoreload\n"
     ]
    }
   ],
   "source": [
    "%load_ext autoreload\n",
    "%autoreload 2"
   ]
  },
  {
   "cell_type": "code",
   "execution_count": 32,
   "metadata": {},
   "outputs": [],
   "source": [
    "from config import CORPUSE_DATA_FILEPATH"
   ]
  },
  {
   "cell_type": "code",
   "execution_count": 34,
   "metadata": {},
   "outputs": [],
   "source": [
    "# read it in to inspect it\n",
    "with open(CORPUSE_DATA_FILEPATH, 'r', encoding='utf-8') as f:\n",
    "    text = f.read()"
   ]
  },
  {
   "cell_type": "code",
   "execution_count": 35,
   "metadata": {},
   "outputs": [
    {
     "name": "stdout",
     "output_type": "stream",
     "text": [
      "length of dataset in characters:  394290\n"
     ]
    }
   ],
   "source": [
    "print(\"length of dataset in characters: \", len(text))"
   ]
  },
  {
   "cell_type": "code",
   "execution_count": 36,
   "metadata": {},
   "outputs": [
    {
     "name": "stdout",
     "output_type": "stream",
     "text": [
      "\n",
      " \n",
      " \n",
      "\n",
      " \n",
      " \n",
      " \n",
      " \n",
      " \n",
      " \n",
      " \n",
      " \n",
      " \n",
      "\n",
      " 1. Óbito do   autor \n",
      " A lgum tempo hesitei se devia abrir estas memórias pelo princípio ou pelo fim, isto é, se poria em primeiro lugar o meu nascimento ou a minha morte. Suposto o uso vulgar seja começar pelo nascimento, duas considerações me levaram a adotar diferente método: a primeira é que eu não sou propriamente um autor defunto, mas um defunto autor, para quem a campa foi outro berço; a segunda é que  o escrito ficaria assim mais galante e mais novo. Moisés, que também contou a sua morte, não a pôs no intróito, mas no cabo: diferença radical entre este livro e o Pentateuco. \n",
      " Dito isto, expirei às duas horas da tarde de uma sexta-feira do mês de agosto de 1869, na minha bela chácara de Catumbi. Tinha uns sessenta e quatro anos, rijos e prósperos, era solteiro, possuía cerca de trezentos contos e fui acompanhado ao cemitério por onze  amigos. Onze amigos! Verdade é que não houve cartas nem anúncios. Acresce que chovia  –  peneirava uma chuvinha miúda, tr\n"
     ]
    }
   ],
   "source": [
    "# let's look at the first 1000 characters\n",
    "print(text[:1000])"
   ]
  },
  {
   "cell_type": "code",
   "execution_count": 37,
   "metadata": {},
   "outputs": [
    {
     "name": "stdout",
     "output_type": "stream",
     "text": [
      "\t\n",
      " !&()*,-./0123456789:;?ABCDEFGHIJKLMNOPQRSTUVWXZ[]_abcdefghijklmnopqrstuvwxyz°´ÀÁÂÃÇÉÍÓÚàáâãçèéêíñóôõúûü–—‘’“”…\n",
      "113\n"
     ]
    }
   ],
   "source": [
    "# here are all the unique characters that occur in this text\n",
    "chars = sorted(list(set(text)))\n",
    "vocab_size = len(chars)\n",
    "print(''.join(chars))\n",
    "print(vocab_size)"
   ]
  },
  {
   "cell_type": "code",
   "execution_count": 39,
   "metadata": {},
   "outputs": [
    {
     "name": "stdout",
     "output_type": "stream",
     "text": [
      "[68, 57, 64, 67, 2, 58, 61, 65]\n",
      "pelo fim\n"
     ]
    }
   ],
   "source": [
    "# create a mapping from characters to integers\n",
    "stoi = { ch:i for i,ch in enumerate(chars) }\n",
    "itos = { i:ch for i,ch in enumerate(chars) }\n",
    "encode = lambda s: [stoi[c] for c in s] # encoder: take a string, output a list of integers\n",
    "decode = lambda l: ''.join([itos[i] for i in l]) # decoder: take a list of integers, output a string\n",
    "\n",
    "print(encode(\"pelo fim\"))\n",
    "print(decode(encode(\"pelo fim\")))"
   ]
  },
  {
   "cell_type": "code",
   "execution_count": 41,
   "metadata": {},
   "outputs": [
    {
     "name": "stderr",
     "output_type": "stream",
     "text": [
      "/home/cafe/.envs/nanoGPT/lib/python3.10/site-packages/torch/_subclasses/functional_tensor.py:258: UserWarning: Failed to initialize NumPy: No module named 'numpy' (Triggered internally at ../torch/csrc/utils/tensor_numpy.cpp:84.)\n",
      "  cpu = _conversion_method_template(device=torch.device(\"cpu\"))\n"
     ]
    },
    {
     "name": "stdout",
     "output_type": "stream",
     "text": [
      "torch.Size([394290]) torch.int64\n",
      "tensor([  1,   2,   1,   2,   1,   1,   2,   1,   2,   1,   2,   1,   2,   1,\n",
      "          2,   1,   2,   1,   2,   1,   2,   1,   2,   1,   1,   2,  13,  10,\n",
      "          2,  88,  54,  61,  72,  67,   2,  56,  67,   2,   2,   2,  53,  73,\n",
      "         72,  67,  70,   2,   1,   2,  25,   2,  64,  59,  73,  65,   2,  72,\n",
      "         57,  65,  68,  67,   2,  60,  57,  71,  61,  72,  57,  61,   2,  71,\n",
      "         57,   2,  56,  57,  74,  61,  53,   2,  53,  54,  70,  61,  70,   2,\n",
      "         57,  71,  72,  53,  71,   2,  65,  57,  65, 100,  70,  61,  53,  71,\n",
      "          2,  68,  57,  64,  67,   2,  68,  70,  61,  66,  55,  98,  68,  61,\n",
      "         67,   2,  67,  73,   2,  68,  57,  64,  67,   2,  58,  61,  65,   8,\n",
      "          2,  61,  71,  72,  67,   2,  96,   8,   2,  71,  57,   2,  68,  67,\n",
      "         70,  61,  53,   2,  57,  65,   2,  68,  70,  61,  65,  57,  61,  70,\n",
      "         67,   2,  64,  73,  59,  53,  70,   2,  67,   2,  65,  57,  73,   2,\n",
      "         66,  53,  71,  55,  61,  65,  57,  66,  72,  67,   2,  67,  73,   2,\n",
      "         53,   2,  65,  61,  66,  60,  53,   2,  65,  67,  70,  72,  57,  10,\n",
      "          2,  43,  73,  68,  67,  71,  72,  67,   2,  67,   2,  73,  71,  67,\n",
      "          2,  74,  73,  64,  59,  53,  70,   2,  71,  57,  62,  53,   2,  55,\n",
      "         67,  65,  57,  94,  53,  70,   2,  68,  57,  64,  67,   2,  66,  53,\n",
      "         71,  55,  61,  65,  57,  66,  72,  67,   8,   2,  56,  73,  53,  71,\n",
      "          2,  55,  67,  66,  71,  61,  56,  57,  70,  53,  94, 102,  57,  71,\n",
      "          2,  65,  57,   2,  64,  57,  74,  53,  70,  53,  65,   2,  53,   2,\n",
      "         53,  56,  67,  72,  53,  70,   2,  56,  61,  58,  57,  70,  57,  66,\n",
      "         72,  57,   2,  65,  96,  72,  67,  56,  67,  22,   2,  53,   2,  68,\n",
      "         70,  61,  65,  57,  61,  70,  53,   2,  96,   2,  69,  73,  57,   2,\n",
      "         57,  73,   2,  66,  93,  67,   2,  71,  67,  73,   2,  68,  70,  67,\n",
      "         68,  70,  61,  53,  65,  57,  66,  72,  57,   2,  73,  65,   2,  53,\n",
      "         73,  72,  67,  70,   2,  56,  57,  58,  73,  66,  72,  67,   8,   2,\n",
      "         65,  53,  71,   2,  73,  65,   2,  56,  57,  58,  73,  66,  72,  67,\n",
      "          2,  53,  73,  72,  67,  70,   8,   2,  68,  53,  70,  53,   2,  69,\n",
      "         73,  57,  65,   2,  53,   2,  55,  53,  65,  68,  53,   2,  58,  67,\n",
      "         61,   2,  67,  73,  72,  70,  67,   2,  54,  57,  70,  94,  67,  23,\n",
      "          2,  53,   2,  71,  57,  59,  73,  66,  56,  53,   2,  96,   2,  69,\n",
      "         73,  57,   2,   2,  67,   2,  57,  71,  55,  70,  61,  72,  67,   2,\n",
      "         58,  61,  55,  53,  70,  61,  53,   2,  53,  71,  71,  61,  65,   2,\n",
      "         65,  53,  61,  71,   2,  59,  53,  64,  53,  66,  72,  57,   2,  57,\n",
      "          2,  65,  53,  61,  71,   2,  66,  67,  74,  67,  10,   2,  37,  67,\n",
      "         61,  71,  96,  71,   8,   2,  69,  73,  57,   2,  72,  53,  65,  54,\n",
      "         96,  65,   2,  55,  67,  66,  72,  67,  73,   2,  53,   2,  71,  73,\n",
      "         53,   2,  65,  67,  70,  72,  57,   8,   2,  66,  93,  67,   2,  53,\n",
      "          2,  68, 101,  71,   2,  66,  67,   2,  61,  66,  72,  70, 100,  61,\n",
      "         72,  67,   8,   2,  65,  53,  71,   2,  66,  67,   2,  55,  53,  54,\n",
      "         67,  22,   2,  56,  61,  58,  57,  70,  57,  66,  94,  53,   2,  70,\n",
      "         53,  56,  61,  55,  53,  64,   2,  57,  66,  72,  70,  57,   2,  57,\n",
      "         71,  72,  57,   2,  64,  61,  74,  70,  67,   2,  57,   2,  67,   2,\n",
      "         40,  57,  66,  72,  53,  72,  57,  73,  55,  67,  10,   2,   1,   2,\n",
      "         28,  61,  72,  67,   2,  61,  71,  72,  67,   8,   2,  57,  76,  68,\n",
      "         61,  70,  57,  61,   2,  90,  71,   2,  56,  73,  53,  71,   2,  60,\n",
      "         67,  70,  53,  71,   2,  56,  53,   2,  72,  53,  70,  56,  57,   2,\n",
      "         56,  57,   2,  73,  65,  53,   2,  71,  57,  76,  72,  53,   9,  58,\n",
      "         57,  61,  70,  53,   2,  56,  67,   2,  65,  97,  71,   2,  56,  57,\n",
      "          2,  53,  59,  67,  71,  72,  67,   2,  56,  57,   2,  13,  20,  18,\n",
      "         21,   8,   2,  66,  53,   2,  65,  61,  66,  60,  53,   2,  54,  57,\n",
      "         64,  53,   2,  55,  60,  91,  55,  53,  70,  53,   2,  56,  57,   2,\n",
      "         27,  53,  72,  73,  65,  54,  61,  10,   2,  44,  61,  66,  60,  53,\n",
      "          2,  73,  66,  71,   2,  71,  57,  71,  71,  57,  66,  72,  53,   2,\n",
      "         57,   2,  69,  73,  53,  72,  70,  67,   2,  53,  66,  67,  71,   8,\n",
      "          2,  70,  61,  62,  67,  71,   2,  57,   2,  68,  70, 100,  71,  68,\n",
      "         57,  70,  67,  71,   8,   2,  57,  70,  53,   2,  71,  67,  64,  72,\n",
      "         57,  61,  70,  67,   8,   2,  68,  67,  71,  71,  73,  98,  53,   2,\n",
      "         55,  57,  70,  55,  53,   2,  56,  57,   2,  72,  70,  57,  78,  57,\n",
      "         66,  72,  67,  71,   2,  55,  67,  66,  72,  67,  71,   2,  57,   2,\n",
      "         58,  73,  61,   2,  53,  55,  67,  65,  68,  53,  66,  60,  53,  56,\n",
      "         67,   2,  53,  67,   2,  55,  57,  65,  61,  72,  96,  70,  61,  67,\n",
      "          2,  68,  67,  70,   2,  67,  66,  78,  57,   2,   2,  53,  65,  61,\n",
      "         59,  67,  71,  10,   2,  39,  66,  78,  57,   2,  53,  65,  61,  59,\n",
      "         67,  71,   3,   2,  46,  57,  70,  56,  53,  56,  57,   2,  96,   2,\n",
      "         69,  73,  57,   2,  66,  93,  67,   2,  60,  67,  73,  74,  57,   2,\n",
      "         55,  53,  70,  72,  53,  71,   2,  66,  57,  65,   2,  53,  66, 103,\n",
      "         66,  55,  61,  67,  71,  10,   2,  25,  55,  70,  57,  71,  55,  57,\n",
      "          2,  69,  73,  57,   2,  55,  60,  67,  74,  61,  53,   2,   2, 106,\n",
      "          2,   2,  68,  57,  66,  57,  61,  70,  53,  74,  53,   2,  73,  65,\n",
      "         53,   2,  55,  60,  73,  74,  61,  66,  60,  53,   2,  65,  61, 103,\n",
      "         56,  53,   8,   2,  72,  70])\n"
     ]
    }
   ],
   "source": [
    "# let's now encode the entire text dataset and store it into a torch.Tensor\n",
    "import torch # we use PyTorch: https://pytorch.org\n",
    "data = torch.tensor(encode(text), dtype=torch.long)\n",
    "print(data.shape, data.dtype)\n",
    "print(data[:1000]) # the 1000 characters we looked at earier will to the GPT look like this"
   ]
  },
  {
   "cell_type": "code",
   "execution_count": 42,
   "metadata": {},
   "outputs": [],
   "source": [
    "# Let's now split up the data into train and validation sets\n",
    "n = int(0.9*len(data)) # first 90% will be train, rest val\n",
    "train_data = data[:n]\n",
    "val_data = data[n:]"
   ]
  },
  {
   "cell_type": "code",
   "execution_count": 44,
   "metadata": {},
   "outputs": [
    {
     "data": {
      "text/plain": [
       "tensor([1, 2, 1, 2, 1, 1, 2, 1, 2])"
      ]
     },
     "execution_count": 44,
     "metadata": {},
     "output_type": "execute_result"
    }
   ],
   "source": [
    "block_size = 8\n",
    "train_data[:block_size+1]"
   ]
  },
  {
   "cell_type": "code",
   "execution_count": 45,
   "metadata": {},
   "outputs": [
    {
     "name": "stdout",
     "output_type": "stream",
     "text": [
      "when input is tensor([1]) the target: 2\n",
      "when input is tensor([1, 2]) the target: 1\n",
      "when input is tensor([1, 2, 1]) the target: 2\n",
      "when input is tensor([1, 2, 1, 2]) the target: 1\n",
      "when input is tensor([1, 2, 1, 2, 1]) the target: 1\n",
      "when input is tensor([1, 2, 1, 2, 1, 1]) the target: 2\n",
      "when input is tensor([1, 2, 1, 2, 1, 1, 2]) the target: 1\n",
      "when input is tensor([1, 2, 1, 2, 1, 1, 2, 1]) the target: 2\n"
     ]
    }
   ],
   "source": [
    "x = train_data[:block_size]\n",
    "y = train_data[1:block_size+1]\n",
    "for t in range(block_size):\n",
    "    context = x[:t+1]\n",
    "    target = y[t]\n",
    "    print(f\"when input is {context} the target: {target}\")"
   ]
  },
  {
   "cell_type": "code",
   "execution_count": 46,
   "metadata": {},
   "outputs": [
    {
     "name": "stdout",
     "output_type": "stream",
     "text": [
      "inputs:\n",
      "torch.Size([4, 8])\n",
      "tensor([[67,  2, 71, 57, 70, 61, 53,  2],\n",
      "        [57, 65, 68, 67, 71,  2, 56, 57],\n",
      "        [97, 66, 55, 61, 53, 71, 23,  2],\n",
      "        [56, 57,  2, 65, 73, 64, 60, 57]])\n",
      "targets:\n",
      "torch.Size([4, 8])\n",
      "tensor([[ 2, 71, 57, 70, 61, 53,  2, 65],\n",
      "        [65, 68, 67, 71,  2, 56, 57, 68],\n",
      "        [66, 55, 61, 53, 71, 23,  2, 72],\n",
      "        [57,  2, 65, 73, 64, 60, 57, 70]])\n",
      "----\n",
      "when input is [67] the target: 2\n",
      "when input is [67, 2] the target: 71\n",
      "when input is [67, 2, 71] the target: 57\n",
      "when input is [67, 2, 71, 57] the target: 70\n",
      "when input is [67, 2, 71, 57, 70] the target: 61\n",
      "when input is [67, 2, 71, 57, 70, 61] the target: 53\n",
      "when input is [67, 2, 71, 57, 70, 61, 53] the target: 2\n",
      "when input is [67, 2, 71, 57, 70, 61, 53, 2] the target: 65\n",
      "when input is [57] the target: 65\n",
      "when input is [57, 65] the target: 68\n",
      "when input is [57, 65, 68] the target: 67\n",
      "when input is [57, 65, 68, 67] the target: 71\n",
      "when input is [57, 65, 68, 67, 71] the target: 2\n",
      "when input is [57, 65, 68, 67, 71, 2] the target: 56\n",
      "when input is [57, 65, 68, 67, 71, 2, 56] the target: 57\n",
      "when input is [57, 65, 68, 67, 71, 2, 56, 57] the target: 68\n",
      "when input is [97] the target: 66\n",
      "when input is [97, 66] the target: 55\n",
      "when input is [97, 66, 55] the target: 61\n",
      "when input is [97, 66, 55, 61] the target: 53\n",
      "when input is [97, 66, 55, 61, 53] the target: 71\n",
      "when input is [97, 66, 55, 61, 53, 71] the target: 23\n",
      "when input is [97, 66, 55, 61, 53, 71, 23] the target: 2\n",
      "when input is [97, 66, 55, 61, 53, 71, 23, 2] the target: 72\n",
      "when input is [56] the target: 57\n",
      "when input is [56, 57] the target: 2\n",
      "when input is [56, 57, 2] the target: 65\n",
      "when input is [56, 57, 2, 65] the target: 73\n",
      "when input is [56, 57, 2, 65, 73] the target: 64\n",
      "when input is [56, 57, 2, 65, 73, 64] the target: 60\n",
      "when input is [56, 57, 2, 65, 73, 64, 60] the target: 57\n",
      "when input is [56, 57, 2, 65, 73, 64, 60, 57] the target: 70\n"
     ]
    }
   ],
   "source": [
    "torch.manual_seed(1337)\n",
    "batch_size = 4 # how many independent sequences will we process in parallel?\n",
    "block_size = 8 # what is the maximum context length for predictions?\n",
    "\n",
    "def get_batch(split):\n",
    "    # generate a small batch of data of inputs x and targets y\n",
    "    data = train_data if split == 'train' else val_data\n",
    "    ix = torch.randint(len(data) - block_size, (batch_size,))\n",
    "    x = torch.stack([data[i:i+block_size] for i in ix])\n",
    "    y = torch.stack([data[i+1:i+block_size+1] for i in ix])\n",
    "    return x, y\n",
    "\n",
    "xb, yb = get_batch('train')\n",
    "print('inputs:')\n",
    "print(xb.shape)\n",
    "print(xb)\n",
    "print('targets:')\n",
    "print(yb.shape)\n",
    "print(yb)\n",
    "\n",
    "print('----')\n",
    "\n",
    "for b in range(batch_size): # batch dimension\n",
    "    for t in range(block_size): # time dimension\n",
    "        context = xb[b, :t+1]\n",
    "        target = yb[b,t]\n",
    "        print(f\"when input is {context.tolist()} the target: {target}\")"
   ]
  }
 ],
 "metadata": {
  "kernelspec": {
   "display_name": "nanoGPT",
   "language": "python",
   "name": "python3"
  },
  "language_info": {
   "codemirror_mode": {
    "name": "ipython",
    "version": 3
   },
   "file_extension": ".py",
   "mimetype": "text/x-python",
   "name": "python",
   "nbconvert_exporter": "python",
   "pygments_lexer": "ipython3",
   "version": "3.10.12"
  }
 },
 "nbformat": 4,
 "nbformat_minor": 2
}
