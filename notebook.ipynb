{
 "cells": [
  {
   "cell_type": "code",
   "execution_count": 56,
   "metadata": {},
   "outputs": [
    {
     "name": "stdout",
     "output_type": "stream",
     "text": [
      "The autoreload extension is already loaded. To reload it, use:\n",
      "  %reload_ext autoreload\n"
     ]
    }
   ],
   "source": [
    "%load_ext autoreload\n",
    "%autoreload 2"
   ]
  },
  {
   "cell_type": "code",
   "execution_count": 57,
   "metadata": {},
   "outputs": [],
   "source": [
    "import numpy as np\n",
    "from config import CORPUSE_DATA_FILEPATH"
   ]
  },
  {
   "cell_type": "code",
   "execution_count": 58,
   "metadata": {},
   "outputs": [],
   "source": [
    "# read it in to inspect it\n",
    "with open(CORPUSE_DATA_FILEPATH, 'r', encoding='utf-8') as f:\n",
    "    text = f.read()"
   ]
  },
  {
   "cell_type": "code",
   "execution_count": 59,
   "metadata": {},
   "outputs": [
    {
     "name": "stdout",
     "output_type": "stream",
     "text": [
      "length of dataset in characters:  394290\n"
     ]
    }
   ],
   "source": [
    "print(\"length of dataset in characters: \", len(text))"
   ]
  },
  {
   "cell_type": "code",
   "execution_count": 60,
   "metadata": {},
   "outputs": [
    {
     "name": "stdout",
     "output_type": "stream",
     "text": [
      "\n",
      " \n",
      " \n",
      "\n",
      " \n",
      " \n",
      " \n",
      " \n",
      " \n",
      " \n",
      " \n",
      " \n",
      " \n",
      "\n",
      " 1. Óbito do   autor \n",
      " A lgum tempo hesitei se devia abrir estas memórias pelo princípio ou pelo fim, isto é, se poria em primeiro lugar o meu nascimento ou a minha morte. Suposto o uso vulgar seja começar pelo nascimento, duas considerações me levaram a adotar diferente método: a primeira é que eu não sou propriamente um autor defunto, mas um defunto autor, para quem a campa foi outro berço; a segunda é que  o escrito ficaria assim mais galante e mais novo. Moisés, que também contou a sua morte, não a pôs no intróito, mas no cabo: diferença radical entre este livro e o Pentateuco. \n",
      " Dito isto, expirei às duas horas da tarde de uma sexta-feira do mês de agosto de 1869, na minha bela chácara de Catumbi. Tinha uns sessenta e quatro anos, rijos e prósperos, era solteiro, possuía cerca de trezentos contos e fui acompanhado ao cemitério por onze  amigos. Onze amigos! Verdade é que não houve cartas nem anúncios. Acresce que chovia  –  peneirava uma chuvinha miúda, tr\n"
     ]
    }
   ],
   "source": [
    "# let's look at the first 1000 characters\n",
    "print(text[:1000])"
   ]
  },
  {
   "cell_type": "code",
   "execution_count": 61,
   "metadata": {},
   "outputs": [
    {
     "name": "stdout",
     "output_type": "stream",
     "text": [
      "\t\n",
      " !&()*,-./0123456789:;?ABCDEFGHIJKLMNOPQRSTUVWXZ[]_abcdefghijklmnopqrstuvwxyz°´ÀÁÂÃÇÉÍÓÚàáâãçèéêíñóôõúûü–—‘’“”…\n",
      "113\n"
     ]
    }
   ],
   "source": [
    "# here are all the unique characters that occur in this text\n",
    "chars = sorted(list(set(text)))\n",
    "vocab_size = len(chars)\n",
    "print(''.join(chars))\n",
    "print(vocab_size)"
   ]
  },
  {
   "cell_type": "code",
   "execution_count": 62,
   "metadata": {},
   "outputs": [
    {
     "name": "stdout",
     "output_type": "stream",
     "text": [
      "[68, 57, 64, 67, 2, 58, 61, 65]\n",
      "pelo fim\n"
     ]
    }
   ],
   "source": [
    "# create a mapping from characters to integers\n",
    "stoi = { ch:i for i,ch in enumerate(chars) }\n",
    "itos = { i:ch for i,ch in enumerate(chars) }\n",
    "encode = lambda s: [stoi[c] for c in s] # encoder: take a string, output a list of integers\n",
    "decode = lambda l: ''.join([itos[i] for i in l]) # decoder: take a list of integers, output a string\n",
    "\n",
    "print(encode(\"pelo fim\"))\n",
    "print(decode(encode(\"pelo fim\")))"
   ]
  },
  {
   "cell_type": "code",
   "execution_count": 63,
   "metadata": {},
   "outputs": [
    {
     "name": "stdout",
     "output_type": "stream",
     "text": [
      "torch.Size([394290]) torch.int64\n",
      "tensor([  1,   2,   1,   2,   1,   1,   2,   1,   2,   1,   2,   1,   2,   1,\n",
      "          2,   1,   2,   1,   2,   1,   2,   1,   2,   1,   1,   2,  13,  10,\n",
      "          2,  88,  54,  61,  72,  67,   2,  56,  67,   2,   2,   2,  53,  73,\n",
      "         72,  67,  70,   2,   1,   2,  25,   2,  64,  59,  73,  65,   2,  72,\n",
      "         57,  65,  68,  67,   2,  60,  57,  71,  61,  72,  57,  61,   2,  71,\n",
      "         57,   2,  56,  57,  74,  61,  53,   2,  53,  54,  70,  61,  70,   2,\n",
      "         57,  71,  72,  53,  71,   2,  65,  57,  65, 100,  70,  61,  53,  71,\n",
      "          2,  68,  57,  64,  67,   2,  68,  70,  61,  66,  55,  98,  68,  61,\n",
      "         67,   2,  67,  73,   2,  68,  57,  64,  67,   2,  58,  61,  65,   8,\n",
      "          2,  61,  71,  72,  67,   2,  96,   8,   2,  71,  57,   2,  68,  67,\n",
      "         70,  61,  53,   2,  57,  65,   2,  68,  70,  61,  65,  57,  61,  70,\n",
      "         67,   2,  64,  73,  59,  53,  70,   2,  67,   2,  65,  57,  73,   2,\n",
      "         66,  53,  71,  55,  61,  65,  57,  66,  72,  67,   2,  67,  73,   2,\n",
      "         53,   2,  65,  61,  66,  60,  53,   2,  65,  67,  70,  72,  57,  10,\n",
      "          2,  43,  73,  68,  67,  71,  72,  67,   2,  67,   2,  73,  71,  67,\n",
      "          2,  74,  73,  64,  59,  53,  70,   2,  71,  57,  62,  53,   2,  55,\n",
      "         67,  65,  57,  94,  53,  70,   2,  68,  57,  64,  67,   2,  66,  53,\n",
      "         71,  55,  61,  65,  57,  66,  72,  67,   8,   2,  56,  73,  53,  71,\n",
      "          2,  55,  67,  66,  71,  61,  56,  57,  70,  53,  94, 102,  57,  71,\n",
      "          2,  65,  57,   2,  64,  57,  74,  53,  70,  53,  65,   2,  53,   2,\n",
      "         53,  56,  67,  72,  53,  70,   2,  56,  61,  58,  57,  70,  57,  66,\n",
      "         72,  57,   2,  65,  96,  72,  67,  56,  67,  22,   2,  53,   2,  68,\n",
      "         70,  61,  65,  57,  61,  70,  53,   2,  96,   2,  69,  73,  57,   2,\n",
      "         57,  73,   2,  66,  93,  67,   2,  71,  67,  73,   2,  68,  70,  67,\n",
      "         68,  70,  61,  53,  65,  57,  66,  72,  57,   2,  73,  65,   2,  53,\n",
      "         73,  72,  67,  70,   2,  56,  57,  58,  73,  66,  72,  67,   8,   2,\n",
      "         65,  53,  71,   2,  73,  65,   2,  56,  57,  58,  73,  66,  72,  67,\n",
      "          2,  53,  73,  72,  67,  70,   8,   2,  68,  53,  70,  53,   2,  69,\n",
      "         73,  57,  65,   2,  53,   2,  55,  53,  65,  68,  53,   2,  58,  67,\n",
      "         61,   2,  67,  73,  72,  70,  67,   2,  54,  57,  70,  94,  67,  23,\n",
      "          2,  53,   2,  71,  57,  59,  73,  66,  56,  53,   2,  96,   2,  69,\n",
      "         73,  57,   2,   2,  67,   2,  57,  71,  55,  70,  61,  72,  67,   2,\n",
      "         58,  61,  55,  53,  70,  61,  53,   2,  53,  71,  71,  61,  65,   2,\n",
      "         65,  53,  61,  71,   2,  59,  53,  64,  53,  66,  72,  57,   2,  57,\n",
      "          2,  65,  53,  61,  71,   2,  66,  67,  74,  67,  10,   2,  37,  67,\n",
      "         61,  71,  96,  71,   8,   2,  69,  73,  57,   2,  72,  53,  65,  54,\n",
      "         96,  65,   2,  55,  67,  66,  72,  67,  73,   2,  53,   2,  71,  73,\n",
      "         53,   2,  65,  67,  70,  72,  57,   8,   2,  66,  93,  67,   2,  53,\n",
      "          2,  68, 101,  71,   2,  66,  67,   2,  61,  66,  72,  70, 100,  61,\n",
      "         72,  67,   8,   2,  65,  53,  71,   2,  66,  67,   2,  55,  53,  54,\n",
      "         67,  22,   2,  56,  61,  58,  57,  70,  57,  66,  94,  53,   2,  70,\n",
      "         53,  56,  61,  55,  53,  64,   2,  57,  66,  72,  70,  57,   2,  57,\n",
      "         71,  72,  57,   2,  64,  61,  74,  70,  67,   2,  57,   2,  67,   2,\n",
      "         40,  57,  66,  72,  53,  72,  57,  73,  55,  67,  10,   2,   1,   2,\n",
      "         28,  61,  72,  67,   2,  61,  71,  72,  67,   8,   2,  57,  76,  68,\n",
      "         61,  70,  57,  61,   2,  90,  71,   2,  56,  73,  53,  71,   2,  60,\n",
      "         67,  70,  53,  71,   2,  56,  53,   2,  72,  53,  70,  56,  57,   2,\n",
      "         56,  57,   2,  73,  65,  53,   2,  71,  57,  76,  72,  53,   9,  58,\n",
      "         57,  61,  70,  53,   2,  56,  67,   2,  65,  97,  71,   2,  56,  57,\n",
      "          2,  53,  59,  67,  71,  72,  67,   2,  56,  57,   2,  13,  20,  18,\n",
      "         21,   8,   2,  66,  53,   2,  65,  61,  66,  60,  53,   2,  54,  57,\n",
      "         64,  53,   2,  55,  60,  91,  55,  53,  70,  53,   2,  56,  57,   2,\n",
      "         27,  53,  72,  73,  65,  54,  61,  10,   2,  44,  61,  66,  60,  53,\n",
      "          2,  73,  66,  71,   2,  71,  57,  71,  71,  57,  66,  72,  53,   2,\n",
      "         57,   2,  69,  73,  53,  72,  70,  67,   2,  53,  66,  67,  71,   8,\n",
      "          2,  70,  61,  62,  67,  71,   2,  57,   2,  68,  70, 100,  71,  68,\n",
      "         57,  70,  67,  71,   8,   2,  57,  70,  53,   2,  71,  67,  64,  72,\n",
      "         57,  61,  70,  67,   8,   2,  68,  67,  71,  71,  73,  98,  53,   2,\n",
      "         55,  57,  70,  55,  53,   2,  56,  57,   2,  72,  70,  57,  78,  57,\n",
      "         66,  72,  67,  71,   2,  55,  67,  66,  72,  67,  71,   2,  57,   2,\n",
      "         58,  73,  61,   2,  53,  55,  67,  65,  68,  53,  66,  60,  53,  56,\n",
      "         67,   2,  53,  67,   2,  55,  57,  65,  61,  72,  96,  70,  61,  67,\n",
      "          2,  68,  67,  70,   2,  67,  66,  78,  57,   2,   2,  53,  65,  61,\n",
      "         59,  67,  71,  10,   2,  39,  66,  78,  57,   2,  53,  65,  61,  59,\n",
      "         67,  71,   3,   2,  46,  57,  70,  56,  53,  56,  57,   2,  96,   2,\n",
      "         69,  73,  57,   2,  66,  93,  67,   2,  60,  67,  73,  74,  57,   2,\n",
      "         55,  53,  70,  72,  53,  71,   2,  66,  57,  65,   2,  53,  66, 103,\n",
      "         66,  55,  61,  67,  71,  10,   2,  25,  55,  70,  57,  71,  55,  57,\n",
      "          2,  69,  73,  57,   2,  55,  60,  67,  74,  61,  53,   2,   2, 106,\n",
      "          2,   2,  68,  57,  66,  57,  61,  70,  53,  74,  53,   2,  73,  65,\n",
      "         53,   2,  55,  60,  73,  74,  61,  66,  60,  53,   2,  65,  61, 103,\n",
      "         56,  53,   8,   2,  72,  70])\n"
     ]
    }
   ],
   "source": [
    "# let's now encode the entire text dataset and store it into a torch.Tensor\n",
    "import torch # we use PyTorch: https://pytorch.org\n",
    "data = torch.tensor(encode(text), dtype=torch.long)\n",
    "print(data.shape, data.dtype)\n",
    "print(data[:1000]) # the 1000 characters we looked at earier will to the GPT look like this"
   ]
  },
  {
   "cell_type": "code",
   "execution_count": 64,
   "metadata": {},
   "outputs": [],
   "source": [
    "# Let's now split up the data into train and validation sets\n",
    "n = int(0.9*len(data)) # first 90% will be train, rest val\n",
    "train_data = data[:n]\n",
    "val_data = data[n:]"
   ]
  },
  {
   "cell_type": "code",
   "execution_count": 65,
   "metadata": {},
   "outputs": [
    {
     "data": {
      "text/plain": [
       "tensor([1, 2, 1, 2, 1, 1, 2, 1, 2])"
      ]
     },
     "execution_count": 65,
     "metadata": {},
     "output_type": "execute_result"
    }
   ],
   "source": [
    "block_size = 8\n",
    "train_data[:block_size+1]"
   ]
  },
  {
   "cell_type": "code",
   "execution_count": 66,
   "metadata": {},
   "outputs": [
    {
     "name": "stdout",
     "output_type": "stream",
     "text": [
      "when input is tensor([1]) the target: 2\n",
      "when input is tensor([1, 2]) the target: 1\n",
      "when input is tensor([1, 2, 1]) the target: 2\n",
      "when input is tensor([1, 2, 1, 2]) the target: 1\n",
      "when input is tensor([1, 2, 1, 2, 1]) the target: 1\n",
      "when input is tensor([1, 2, 1, 2, 1, 1]) the target: 2\n",
      "when input is tensor([1, 2, 1, 2, 1, 1, 2]) the target: 1\n",
      "when input is tensor([1, 2, 1, 2, 1, 1, 2, 1]) the target: 2\n"
     ]
    }
   ],
   "source": [
    "x = train_data[:block_size]\n",
    "y = train_data[1:block_size+1]\n",
    "for t in range(block_size):\n",
    "    context = x[:t+1]\n",
    "    target = y[t]\n",
    "    print(f\"when input is {context} the target: {target}\")"
   ]
  },
  {
   "cell_type": "code",
   "execution_count": 67,
   "metadata": {},
   "outputs": [
    {
     "name": "stdout",
     "output_type": "stream",
     "text": [
      "inputs:\n",
      "torch.Size([4, 8])\n",
      "tensor([[67,  2, 71, 57, 70, 61, 53,  2],\n",
      "        [57, 65, 68, 67, 71,  2, 56, 57],\n",
      "        [97, 66, 55, 61, 53, 71, 23,  2],\n",
      "        [56, 57,  2, 65, 73, 64, 60, 57]])\n",
      "targets:\n",
      "torch.Size([4, 8])\n",
      "tensor([[ 2, 71, 57, 70, 61, 53,  2, 65],\n",
      "        [65, 68, 67, 71,  2, 56, 57, 68],\n",
      "        [66, 55, 61, 53, 71, 23,  2, 72],\n",
      "        [57,  2, 65, 73, 64, 60, 57, 70]])\n",
      "----\n",
      "when input is [67] the target: 2\n",
      "when input is [67, 2] the target: 71\n",
      "when input is [67, 2, 71] the target: 57\n",
      "when input is [67, 2, 71, 57] the target: 70\n",
      "when input is [67, 2, 71, 57, 70] the target: 61\n",
      "when input is [67, 2, 71, 57, 70, 61] the target: 53\n",
      "when input is [67, 2, 71, 57, 70, 61, 53] the target: 2\n",
      "when input is [67, 2, 71, 57, 70, 61, 53, 2] the target: 65\n",
      "when input is [57] the target: 65\n",
      "when input is [57, 65] the target: 68\n",
      "when input is [57, 65, 68] the target: 67\n",
      "when input is [57, 65, 68, 67] the target: 71\n",
      "when input is [57, 65, 68, 67, 71] the target: 2\n",
      "when input is [57, 65, 68, 67, 71, 2] the target: 56\n",
      "when input is [57, 65, 68, 67, 71, 2, 56] the target: 57\n",
      "when input is [57, 65, 68, 67, 71, 2, 56, 57] the target: 68\n",
      "when input is [97] the target: 66\n",
      "when input is [97, 66] the target: 55\n",
      "when input is [97, 66, 55] the target: 61\n",
      "when input is [97, 66, 55, 61] the target: 53\n",
      "when input is [97, 66, 55, 61, 53] the target: 71\n",
      "when input is [97, 66, 55, 61, 53, 71] the target: 23\n",
      "when input is [97, 66, 55, 61, 53, 71, 23] the target: 2\n",
      "when input is [97, 66, 55, 61, 53, 71, 23, 2] the target: 72\n",
      "when input is [56] the target: 57\n",
      "when input is [56, 57] the target: 2\n",
      "when input is [56, 57, 2] the target: 65\n",
      "when input is [56, 57, 2, 65] the target: 73\n",
      "when input is [56, 57, 2, 65, 73] the target: 64\n",
      "when input is [56, 57, 2, 65, 73, 64] the target: 60\n",
      "when input is [56, 57, 2, 65, 73, 64, 60] the target: 57\n",
      "when input is [56, 57, 2, 65, 73, 64, 60, 57] the target: 70\n"
     ]
    }
   ],
   "source": [
    "torch.manual_seed(1337)\n",
    "batch_size = 4 # how many independent sequences will we process in parallel?\n",
    "block_size = 8 # what is the maximum context length for predictions?\n",
    "\n",
    "def get_batch(split):\n",
    "    # generate a small batch of data of inputs x and targets y\n",
    "    data = train_data if split == 'train' else val_data\n",
    "    ix = torch.randint(len(data) - block_size, (batch_size,))\n",
    "    x = torch.stack([data[i:i+block_size] for i in ix])\n",
    "    y = torch.stack([data[i+1:i+block_size+1] for i in ix])\n",
    "    return x, y\n",
    "\n",
    "xb, yb = get_batch('train')\n",
    "print('inputs:')\n",
    "print(xb.shape)\n",
    "print(xb)\n",
    "print('targets:')\n",
    "print(yb.shape)\n",
    "print(yb)\n",
    "\n",
    "print('----')\n",
    "\n",
    "for b in range(batch_size): # batch dimension\n",
    "    for t in range(block_size): # time dimension\n",
    "        context = xb[b, :t+1]\n",
    "        target = yb[b,t]\n",
    "        print(f\"when input is {context.tolist()} the target: {target}\")"
   ]
  },
  {
   "cell_type": "code",
   "execution_count": 68,
   "metadata": {},
   "outputs": [
    {
     "name": "stdout",
     "output_type": "stream",
     "text": [
      "tensor([[67,  2, 71, 57, 70, 61, 53,  2],\n",
      "        [57, 65, 68, 67, 71,  2, 56, 57],\n",
      "        [97, 66, 55, 61, 53, 71, 23,  2],\n",
      "        [56, 57,  2, 65, 73, 64, 60, 57]])\n"
     ]
    }
   ],
   "source": [
    "print(xb) # our input to the transformer"
   ]
  },
  {
   "cell_type": "code",
   "execution_count": 69,
   "metadata": {},
   "outputs": [
    {
     "name": "stdout",
     "output_type": "stream",
     "text": [
      "torch.Size([32, 113])\n",
      "tensor(5.0475, grad_fn=<NllLossBackward0>)\n",
      "\t5—´etsÃsTZqCÍ4j(ZI[”)bcoFÇnEXÚ…&â-)5Úd. ]/;ç3B86ÁÂáfCg/L°qCÍ6ÀÀ5d_…CûU3õôm*lâExJüQ1Rdo.aKDCÁTyaJ-— Â\n"
     ]
    }
   ],
   "source": [
    "import torch\n",
    "import torch.nn as nn\n",
    "from torch.nn import functional as F\n",
    "torch.manual_seed(1337)\n",
    "\n",
    "class BigramLanguageModel(nn.Module):\n",
    "\n",
    "    def __init__(self, vocab_size):\n",
    "        super().__init__()\n",
    "        # each token directly reads off the logits for the next token from a lookup table\n",
    "        self.token_embedding_table = nn.Embedding(vocab_size, vocab_size)\n",
    "\n",
    "    def forward(self, idx, targets=None):\n",
    "\n",
    "        # idx and targets are both (B,T) tensor of integers\n",
    "        logits = self.token_embedding_table(idx) # (B,T,C)\n",
    "\n",
    "        if targets is None:\n",
    "            loss = None\n",
    "        else:\n",
    "            B, T, C = logits.shape\n",
    "            logits = logits.view(B*T, C)\n",
    "            targets = targets.view(B*T)\n",
    "            loss = F.cross_entropy(logits, targets)\n",
    "\n",
    "        return logits, loss\n",
    "\n",
    "    def generate(self, idx, max_new_tokens):\n",
    "        # idx is (B, T) array of indices in the current context\n",
    "        for _ in range(max_new_tokens):\n",
    "            # get the predictions\n",
    "            logits, loss = self(idx)\n",
    "            # focus only on the last time step\n",
    "            logits = logits[:, -1, :] # becomes (B, C)\n",
    "            # apply softmax to get probabilities\n",
    "            probs = F.softmax(logits, dim=-1) # (B, C)\n",
    "            # sample from the distribution\n",
    "            idx_next = torch.multinomial(probs, num_samples=1) # (B, 1)\n",
    "            # append sampled index to the running sequence\n",
    "            idx = torch.cat((idx, idx_next), dim=1) # (B, T+1)\n",
    "        return idx\n",
    "\n",
    "m = BigramLanguageModel(vocab_size)\n",
    "logits, loss = m(xb, yb)\n",
    "print(logits.shape)\n",
    "print(loss)\n",
    "\n",
    "print(decode(m.generate(idx = torch.zeros((1, 1), dtype=torch.long), max_new_tokens=100)[0].tolist()))\n"
   ]
  },
  {
   "cell_type": "code",
   "execution_count": 70,
   "metadata": {},
   "outputs": [],
   "source": [
    "# create a PyTorch optimizer\n",
    "optimizer = torch.optim.AdamW(m.parameters(), lr=1e-3)"
   ]
  },
  {
   "cell_type": "code",
   "execution_count": 71,
   "metadata": {},
   "outputs": [
    {
     "name": "stdout",
     "output_type": "stream",
     "text": [
      "5.075191020965576\n"
     ]
    }
   ],
   "source": [
    "batch_size = 32\n",
    "for steps in range(100): # increase number of steps for good results...\n",
    "\n",
    "    # sample a batch of data\n",
    "    xb, yb = get_batch('train')\n",
    "\n",
    "    # evaluate the loss\n",
    "    logits, loss = m(xb, yb)\n",
    "    optimizer.zero_grad(set_to_none=True)\n",
    "    loss.backward()\n",
    "    optimizer.step()\n",
    "\n",
    "print(loss.item())\n"
   ]
  },
  {
   "cell_type": "code",
   "execution_count": 72,
   "metadata": {},
   "outputs": [
    {
     "data": {
      "text/plain": [
       "np.float64(-4.174387269895637)"
      ]
     },
     "execution_count": 72,
     "metadata": {},
     "output_type": "execute_result"
    }
   ],
   "source": [
    "np.log(1/65)"
   ]
  },
  {
   "cell_type": "code",
   "execution_count": 73,
   "metadata": {},
   "outputs": [
    {
     "name": "stdout",
     "output_type": "stream",
     "text": [
      "\ttMkPvr3\tbÚ4 êóaEhR*w&&(FÃ´üen(ôüK0ãcu88-)nz01°7m…Eúzi\taB 7SfJ…Sv”s1ÇíALK´GaQLêá´5D3Ã)6m_-h;9E6Lh)[ndeIÍ Kú:Z&Ú&l; kIêAPsà°Á_ÁkêÁ”AjÓ*0Q:]uãLT‘1júNmé3W6…,zütQó8[üX*ÓM?Áúe)6U3HÓídPèp9ELo—´SÇ7ÍôóaB?”(–G°A/Câ2’J)7QÇdÂEKUHJÓ2)D]Á_ipR\taHõuú8PZ*ÍûbTWT”(g(y).S6É6EçV!etUõôyB;Ojé&…í Í;b’Q:]ÃZ*7v”V\n",
      "Áce°ÁnçVS°ü*c;MÀz–n_hévcüÃd!M)Upp9rg,t,1ãN´_pkd—´EIFoU3õÂâ—9NjP6-PIñXñá´\t/óhûgpyf0b5-ctóÓx*7pPvaõNÇÚUIH–Nrhqú5ÃjÚlmÍàIeBEM…:qx”lK-Í,ãnQkÓ5byêíá-ÉP067rh‘ô–VúUP\n",
      "x‘9ñô?aûzüP?qM!]íá?“ñ2]gã,W6‘5Oy96Ã—Ó2ç!0uaûázjLU[!\t\n"
     ]
    }
   ],
   "source": [
    "print(decode(m.generate(idx = torch.zeros((1, 1), dtype=torch.long), max_new_tokens=500)[0].tolist()))"
   ]
  },
  {
   "cell_type": "code",
   "execution_count": 74,
   "metadata": {},
   "outputs": [
    {
     "name": "stdout",
     "output_type": "stream",
     "text": [
      "a=\n",
      "tensor([[1.0000, 0.0000, 0.0000],\n",
      "        [0.5000, 0.5000, 0.0000],\n",
      "        [0.3333, 0.3333, 0.3333]])\n",
      "--\n",
      "b=\n",
      "tensor([[2., 7.],\n",
      "        [6., 4.],\n",
      "        [6., 5.]])\n",
      "--\n",
      "c=\n",
      "tensor([[2.0000, 7.0000],\n",
      "        [4.0000, 5.5000],\n",
      "        [4.6667, 5.3333]])\n"
     ]
    }
   ],
   "source": [
    "# toy example illustrating how matrix multiplication can be used for a \"weighted aggregation\"\n",
    "torch.manual_seed(42)\n",
    "a = torch.tril(torch.ones(3, 3))\n",
    "a = a / torch.sum(a, 1, keepdim=True)\n",
    "b = torch.randint(0,10,(3,2)).float()\n",
    "c = a @ b\n",
    "print('a=')\n",
    "print(a)\n",
    "print('--')\n",
    "print('b=')\n",
    "print(b)\n",
    "print('--')\n",
    "print('c=')\n",
    "print(c)"
   ]
  },
  {
   "cell_type": "code",
   "execution_count": 75,
   "metadata": {},
   "outputs": [
    {
     "data": {
      "text/plain": [
       "torch.Size([4, 8, 2])"
      ]
     },
     "execution_count": 75,
     "metadata": {},
     "output_type": "execute_result"
    }
   ],
   "source": [
    "# consider the following toy example:\n",
    "\n",
    "torch.manual_seed(1337)\n",
    "B,T,C = 4,8,2 # batch, time, channels\n",
    "x = torch.randn(B,T,C)\n",
    "x.shape"
   ]
  },
  {
   "cell_type": "code",
   "execution_count": 76,
   "metadata": {},
   "outputs": [],
   "source": [
    "# We want x[b,t] = mean_{i<=t} x[b,i]\n",
    "xbow = torch.zeros((B,T,C))\n",
    "for b in range(B):\n",
    "    for t in range(T):\n",
    "        xprev = x[b,:t+1] # (t,C)\n",
    "        xbow[b,t] = torch.mean(xprev, 0)"
   ]
  },
  {
   "cell_type": "code",
   "execution_count": 77,
   "metadata": {},
   "outputs": [
    {
     "data": {
      "text/plain": [
       "tensor([[ 0.1808, -0.0700],\n",
       "        [-0.3596, -0.9152],\n",
       "        [ 0.6258,  0.0255],\n",
       "        [ 0.9545,  0.0643],\n",
       "        [ 0.3612,  1.1679],\n",
       "        [-1.3499, -0.5102],\n",
       "        [ 0.2360, -0.2398],\n",
       "        [-0.9211,  1.5433]])"
      ]
     },
     "execution_count": 77,
     "metadata": {},
     "output_type": "execute_result"
    }
   ],
   "source": [
    "x[0]"
   ]
  },
  {
   "cell_type": "code",
   "execution_count": 78,
   "metadata": {},
   "outputs": [
    {
     "data": {
      "text/plain": [
       "tensor([[ 0.1808, -0.0700],\n",
       "        [-0.0894, -0.4926],\n",
       "        [ 0.1490, -0.3199],\n",
       "        [ 0.3504, -0.2238],\n",
       "        [ 0.3525,  0.0545],\n",
       "        [ 0.0688, -0.0396],\n",
       "        [ 0.0927, -0.0682],\n",
       "        [-0.0341,  0.1332]])"
      ]
     },
     "execution_count": 78,
     "metadata": {},
     "output_type": "execute_result"
    }
   ],
   "source": [
    "xbow[0]"
   ]
  },
  {
   "cell_type": "code",
   "execution_count": 79,
   "metadata": {},
   "outputs": [
    {
     "data": {
      "text/plain": [
       "tensor([[1., 0., 0.],\n",
       "        [1., 1., 0.],\n",
       "        [1., 1., 1.]])"
      ]
     },
     "execution_count": 79,
     "metadata": {},
     "output_type": "execute_result"
    }
   ],
   "source": [
    "torch.tril(torch.ones(3,3))"
   ]
  },
  {
   "cell_type": "code",
   "execution_count": 80,
   "metadata": {},
   "outputs": [
    {
     "name": "stdout",
     "output_type": "stream",
     "text": [
      "a=\n",
      "tensor([[1.0000, 0.0000, 0.0000],\n",
      "        [0.5000, 0.5000, 0.0000],\n",
      "        [0.3333, 0.3333, 0.3333]])\n",
      "--\n",
      "b=\n",
      "tensor([[2., 7.],\n",
      "        [6., 4.],\n",
      "        [6., 5.]])\n",
      "--\n",
      "c=\n",
      "tensor([[2.0000, 7.0000],\n",
      "        [4.0000, 5.5000],\n",
      "        [4.6667, 5.3333]])\n"
     ]
    }
   ],
   "source": [
    "torch.manual_seed(42)\n",
    "#a = torch.ones(3,3)\n",
    "a = torch.tril(torch.ones(3,3))\n",
    "a = a / torch.sum(a, 1, keepdim=True)\n",
    "b = torch.randint(0, 10, (3,2)).float()\n",
    "c = a @ b \n",
    "print('a=')\n",
    "print(a)\n",
    "print('--')\n",
    "print('b=')\n",
    "print(b)\n",
    "print('--')\n",
    "print('c=')\n",
    "print(c)\n"
   ]
  },
  {
   "cell_type": "code",
   "execution_count": 81,
   "metadata": {},
   "outputs": [
    {
     "data": {
      "text/plain": [
       "False"
      ]
     },
     "execution_count": 81,
     "metadata": {},
     "output_type": "execute_result"
    }
   ],
   "source": [
    "# version 2: using matrix multiply for a weighted aggregation\n",
    "wei = torch.tril(torch.ones(T, T))\n",
    "wei = wei / wei.sum(1, keepdim=True)\n",
    "xbow2 = wei @ x # (B, T, T) @ (B, T, C) ----> (B, T, C)\n",
    "torch.allclose(xbow, xbow2)"
   ]
  },
  {
   "cell_type": "code",
   "execution_count": 82,
   "metadata": {},
   "outputs": [
    {
     "data": {
      "text/plain": [
       "False"
      ]
     },
     "execution_count": 82,
     "metadata": {},
     "output_type": "execute_result"
    }
   ],
   "source": [
    "# version 3: use Softmax\n",
    "tril = torch.tril(torch.ones(T, T))\n",
    "wei = torch.zeros((T,T))\n",
    "wei = wei.masked_fill(tril == 0, float('-inf'))\n",
    "wei = F.softmax(wei, dim=-1)\n",
    "xbow3 = wei @ x\n",
    "torch.allclose(xbow, xbow3)"
   ]
  },
  {
   "cell_type": "code",
   "execution_count": 89,
   "metadata": {},
   "outputs": [
    {
     "data": {
      "text/plain": [
       "torch.Size([4, 8, 16])"
      ]
     },
     "execution_count": 89,
     "metadata": {},
     "output_type": "execute_result"
    }
   ],
   "source": [
    "torch.manual_seed(42)\n",
    "B, T, C = 4, 8, 32\n",
    "x = torch.randn(B,T,C)\n",
    "\n",
    "head_size = 16\n",
    "key = nn.Linear(C, head_size, bias=False)\n",
    "query = nn.Linear(C, head_size, bias=False)\n",
    "value = nn.Linear(C, head_size, bias=False)\n",
    "k = key(x) # (B, T, 16)\n",
    "q = query(x) # (B, T, 16)\n",
    "wei = q @ k.transpose(-2, -1) # (B, T, 16) @ (B, 16, T) ---> (B, T, T)\n",
    "\n",
    "tril = torch.tril(torch.ones(T,T))\n",
    "#wei = torch.zeros((T,T))\n",
    "wei = wei.masked_fill(tril == 0, float('-inf'))\n",
    "wei = F.softmax(wei, dim=1)\n",
    "\n",
    "v = value(x)\n",
    "out = wei @ v\n",
    "#out = wei @ x\n",
    "\n",
    "out.shape"
   ]
  },
  {
   "cell_type": "code",
   "execution_count": 90,
   "metadata": {},
   "outputs": [
    {
     "data": {
      "text/plain": [
       "tensor([[0.0839, 0.0000, 0.0000, 0.0000, 0.0000, 0.0000, 0.0000, 0.0000],\n",
       "        [0.0606, 0.2418, 0.0000, 0.0000, 0.0000, 0.0000, 0.0000, 0.0000],\n",
       "        [0.1684, 0.0240, 0.2433, 0.0000, 0.0000, 0.0000, 0.0000, 0.0000],\n",
       "        [0.1060, 0.2614, 0.1076, 0.3452, 0.0000, 0.0000, 0.0000, 0.0000],\n",
       "        [0.1187, 0.0218, 0.0152, 0.0890, 0.0695, 0.0000, 0.0000, 0.0000],\n",
       "        [0.0654, 0.3663, 0.0801, 0.3100, 0.6478, 0.0812, 0.0000, 0.0000],\n",
       "        [0.3644, 0.0150, 0.5266, 0.0205, 0.1464, 0.0097, 0.0605, 0.0000],\n",
       "        [0.0326, 0.0698, 0.0271, 0.2353, 0.1363, 0.9091, 0.9395, 1.0000]],\n",
       "       grad_fn=<SelectBackward0>)"
      ]
     },
     "execution_count": 90,
     "metadata": {},
     "output_type": "execute_result"
    }
   ],
   "source": [
    "wei[0]"
   ]
  },
  {
   "cell_type": "code",
   "execution_count": 85,
   "metadata": {},
   "outputs": [
    {
     "data": {
      "text/plain": [
       "tensor([[[ 1.9269,  1.4873,  0.9007,  ...,  0.0418, -0.2516,  0.8599],\n",
       "         [-1.3847, -0.8712, -0.2234,  ...,  1.8446, -1.1845,  1.3835],\n",
       "         [ 1.4451,  0.8564,  2.2181,  ..., -0.8278,  1.3347,  0.4835],\n",
       "         ...,\n",
       "         [-1.9006,  0.2286,  0.0249,  ..., -0.5558,  0.7043,  0.7099],\n",
       "         [ 1.7744, -0.9216,  0.9624,  ..., -0.5003,  1.0350,  1.6896],\n",
       "         [-0.0045,  1.6668,  0.1539,  ...,  0.5655,  0.5058,  0.2225]],\n",
       "\n",
       "        [[-0.6855,  0.5636, -1.5072,  ...,  1.1566,  0.2691, -0.0366],\n",
       "         [ 0.9733, -1.0151, -0.5419,  ..., -0.0553,  1.2049, -0.9825],\n",
       "         [ 0.4334, -0.7172,  1.0554,  ..., -0.6766, -0.5730, -0.3303],\n",
       "         ...,\n",
       "         [ 0.6839, -1.3246, -0.5161,  ...,  1.1895,  0.7607, -0.7463],\n",
       "         [-1.3839,  0.4869, -1.0020,  ...,  1.9535,  2.0487, -1.0880],\n",
       "         [ 1.6217,  0.8513, -0.4005,  ...,  0.4232, -0.3389,  0.5180]],\n",
       "\n",
       "        [[-1.3638,  0.1930, -0.6103,  ...,  0.6110,  1.2208, -0.6076],\n",
       "         [-1.7376, -0.1254, -1.3658,  ..., -0.6035, -0.1743,  0.6092],\n",
       "         [-0.8032, -1.1209,  0.1956,  ...,  0.1598,  1.7698,  0.6268],\n",
       "         ...,\n",
       "         [ 2.1296, -1.5181,  0.1387,  ...,  3.0250,  1.3463,  0.8556],\n",
       "         [ 0.3220,  0.4461,  1.5230,  ..., -1.4591, -1.4937, -0.2214],\n",
       "         [ 0.2252, -0.0772,  0.9857,  ..., -1.6034, -0.4298,  0.5762]],\n",
       "\n",
       "        [[ 0.3444, -3.1016, -1.4587,  ...,  1.4162,  0.6834, -0.1383],\n",
       "         [ 0.9213,  0.5282, -0.0082,  ...,  2.1477, -0.6604,  0.1135],\n",
       "         [-0.2206,  0.7118,  0.3416,  ...,  1.1383, -0.2505,  1.6705],\n",
       "         ...,\n",
       "         [ 0.0518, -0.3285, -2.2472,  ...,  1.4557, -0.3461, -0.2634],\n",
       "         [-0.4477, -0.7288, -0.1607,  ...,  0.5405,  0.4351, -2.2717],\n",
       "         [-0.1339, -0.0586,  0.1257,  ...,  1.1085,  0.5544,  1.5818]]])"
      ]
     },
     "execution_count": 85,
     "metadata": {},
     "output_type": "execute_result"
    }
   ],
   "source": [
    "x"
   ]
  }
 ],
 "metadata": {
  "kernelspec": {
   "display_name": "nanoGPT",
   "language": "python",
   "name": "python3"
  },
  "language_info": {
   "codemirror_mode": {
    "name": "ipython",
    "version": 3
   },
   "file_extension": ".py",
   "mimetype": "text/x-python",
   "name": "python",
   "nbconvert_exporter": "python",
   "pygments_lexer": "ipython3",
   "version": "3.10.12"
  }
 },
 "nbformat": 4,
 "nbformat_minor": 2
}
